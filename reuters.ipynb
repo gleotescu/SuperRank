{
 "cells": [
  {
   "cell_type": "code",
   "execution_count": 25,
   "metadata": {
    "collapsed": true
   },
   "outputs": [
    {
     "data": {
      "text/plain": [
       "<Graph identifier=Nf1bfbdf803964f33ab98f58084eff138 (<class 'rdflib.graph.Graph'>)>"
      ]
     },
     "execution_count": 25,
     "metadata": {},
     "output_type": "execute_result"
    }
   ],
   "source": [
    "import json\n",
    "from functools import reduce\n",
    "import numpy as np\n",
    "\n",
    "filename = '/home/george/salience-prediction/datasets/reuters-128-entity-salience.ttl'\n",
    "\n",
    "from rdflib import Graph\n",
    "g = Graph()\n",
    "g.parse(filename, format='turtle')\n"
   ]
  },
  {
   "cell_type": "code",
   "execution_count": 20,
   "metadata": {
    "collapsed": true
   },
   "outputs": [
    {
     "name": "stdout",
     "output_type": "stream",
     "text": [
      "{'entities': [{'id': 'http://dbpedia.org/resource/Simulation', 'forms': [{'bodyOffsets': [[142, 152]], 'form': 'Simulation'}], 'score': 2}, {'id': 'http://dbpedia.org/resource/Purchasing', 'forms': [{'bodyOffsets': [[229, 238]], 'form': 'purchases'}], 'score': 3}, {'id': 'http://dbpedia.org/resource/Mln', 'forms': [{'bodyOffsets': [[101, 104]], 'form': 'mln'}], 'score': 1}, {'id': 'http://dbpedia.org/resource/Option', 'forms': [{'bodyOffsets': [[205, 211]], 'form': 'option'}], 'score': 2}, {'id': 'http://dbpedia.org/resource/Digital_Equipment_Corporation', 'forms': [{'bodyOffsets': [[18, 40]], 'form': 'Digital Equipment Corp'}], 'score': 3}, {'id': 'http://dbpedia.org/resource/Agreement', 'forms': [{'bodyOffsets': [[182, 191]], 'form': 'agreement'}], 'score': 3}, {'id': 'http://dbpedia.org/resource/Teradyne', 'forms': [{'bodyOffsets': [[0, 12]], 'form': 'Teradyne Inc'}], 'score': 3}, {'id': 'http://aksw.org/notInWiki/futrue_lasar', 'forms': [{'bodyOffsets': [[216, 228]], 'form': 'futrue lasar'}], 'score': 2}, {'id': 'http://dbpedia.org/resource/Company', 'forms': [{'bodyOffsets': [[165, 172]], 'form': 'company'}], 'score': 1}, {'id': 'http://aksw.org/notInWiki/dlrs', 'forms': [{'bodyOffsets': [[105, 109]], 'form': 'dlrs'}], 'score': 1}, {'id': 'http://aksw.org/notInWiki/multi-license_purchase_agreement', 'forms': [{'bodyOffsets': [[50, 82]], 'form': 'multi-license purchase agreement'}], 'score': 3}], 'headline': '', 'body': 'Teradyne Inc said Digital Equipment Corp signed a multi-license purchase agreement valed at over one mln dlrs for Teradynes Lasar Version Six Simulation System. The company said the agreement includes the option for futrue lasar purchases by Digital.', 'suid': 'http://aksw.org/N3/Reuters-128/5#char=0,250'}\n"
     ]
    }
   ],
   "source": [
    "from rdflib import URIRef\n",
    "\n",
    "def getSalienceScore(salience):\n",
    "    if (salience == 'not_salient'):\n",
    "        return 1\n",
    "    if (salience == 'less_salient'):\n",
    "        return 2\n",
    "    if (salience == 'most_salient'):\n",
    "        return 3\n",
    "    \n",
    "salience = URIRef('http://vse.cz/entity-salience#salience')\n",
    "refContext = URIRef('http://persistence.uni-leipzig.org/nlp2rdf/ontologies/nif-core#referenceContext')\n",
    "refId = URIRef('http://www.w3.org/2005/11/its/rdf#taIdentRef')\n",
    "refIsString = URIRef('http://persistence.uni-leipzig.org/nlp2rdf/ontologies/nif-core#isString')\n",
    "stories = {}\n",
    "\n",
    "for entry in g.subject_objects(predicate=salience):\n",
    "    (entity, score) = entry\n",
    "    score = getSalienceScore(str(score))\n",
    "    \n",
    "    parentRef = g.value(entity, refContext)\n",
    "    parentId = str(parentRef)\n",
    "    \n",
    "    idRef = g.value(entity, refId)\n",
    "    id = str(idRef)\n",
    "    \n",
    "    if parentId not in stories.keys():\n",
    "        content = g.value(subject=parentRef, predicate=refIsString)\n",
    "        headline = ''\n",
    "        body = str(content)\n",
    "        stories[parentId] = {'entities' : {}, 'headline' : '', 'body' : body}\n",
    "    \n",
    "    story = stories[parentId]\n",
    "    if id not in story.keys():\n",
    "        story['entities'][id] = {'id' : str(id), 'forms' : []}\n",
    "        \n",
    "    entry = story['entities'][id]\n",
    "    entry['score'] = score\n",
    "    \n",
    "    name = str(entity)\n",
    "    offsets = list(map(int, name[name.find('=')+1:].split(',')))\n",
    "    form = {'bodyOffsets' : [offsets], 'form' : stories[parentId]['body'][offsets[0]:offsets[1]]}\n",
    "    entry['forms'].append(form)\n",
    "        \n",
    "        \n",
    "for (suid, content) in stories.items():\n",
    "    content['suid'] = suid\n",
    "    content['entities'] = list(content['entities'].values())\n",
    "    \n",
    "stories = list(stories.values())\n",
    "print(stories[0])\n",
    "    \n"
   ]
  },
  {
   "cell_type": "code",
   "execution_count": 24,
   "metadata": {},
   "outputs": [],
   "source": [
    "with open('/home/george/salience-prediction/datasets/reuters-standard.json', 'w') as f:\n",
    "    f.write(json.dumps(stories))\n",
    "    \n",
    "outdir = '/home/george/salience-prediction/datasets/reuters'\n",
    "for i, story in enumerate(stories):\n",
    "    outfile = outdir + '/' + str(i)\n",
    "    with open(outfile, 'w') as f:\n",
    "        f.write(story['body'])\n",
    "    "
   ]
  }
 ],
 "metadata": {
  "kernelspec": {
   "display_name": "Python 2",
   "language": "python",
   "name": "python2"
  },
  "language_info": {
   "codemirror_mode": {
    "name": "ipython",
    "version": 2
   },
   "file_extension": ".py",
   "mimetype": "text/x-python",
   "name": "python",
   "nbconvert_exporter": "python",
   "pygments_lexer": "ipython2",
   "version": "2.7.6"
  }
 },
 "nbformat": 4,
 "nbformat_minor": 0
}
