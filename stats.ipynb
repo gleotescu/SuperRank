{
 "cells": [
  {
   "cell_type": "code",
   "execution_count": 11,
   "metadata": {
    "collapsed": false
   },
   "outputs": [
    {
     "name": "stdout",
     "output_type": "stream",
     "text": [
      "128 stories, 3213 entities\n"
     ]
    },
    {
     "data": {
      "image/png": "[encoded data removed]",
      "text/plain": [
       "<matplotlib.figure.Figure at 0x7f79dc394240>"
      ]
     },
     "metadata": {},
     "output_type": "display_data"
    }
   ],
   "source": [
    "import json\n",
    "import matplotlib.pyplot as plt\n",
    "\n",
    "dataset = 'reuters'\n",
    "\n",
    "filename = '/home/george/salience-prediction/datasets/%s-standard.json' % dataset\n",
    "with open(filename) as f:\n",
    "    stories = json.loads(f.read())\n",
    "\n",
    "storiesNum = len(stories)\n",
    "scores = [entity['score'] for story in stories for entity in story['entities']]\n",
    "\n",
    "entitiesNum = len(scores)\n",
    "print('%d stories, %d entities' % (storiesNum, entitiesNum))\n",
    "\n",
    "def plotDistribution(d, xLabel, yLabel, title):\n",
    "    n, bins, patches = plt.hist(d, 100, facecolor='g', alpha=0.75, )\n",
    "    plt.xlabel(xLabel)\n",
    "    plt.ylabel(yLabel)\n",
    "    plt.title(title)\n",
    "    plt.grid(True)\n",
    "    plt.show()\n",
    "\n",
    "plotDistribution(scores, 'Salience', 'Count', 'Grount-truth distribution')\n",
    "\n",
    "headlineLens = [len(story['headline']) for story in stories]\n",
    "# plotDistribution(headlineLens, 'Count', 'headline len', 'Headline lengths distribution')\n"
   ]
  },
  {
   "cell_type": "code",
   "execution_count": null,
   "metadata": {},
   "outputs": [],
   "source": []
  }
 ],
 "metadata": {
  "kernelspec": {
   "display_name": "Python 2",
   "language": "python",
   "name": "python2"
  },
  "language_info": {
   "codemirror_mode": {
    "name": "ipython",
    "version": 2
   },
   "file_extension": ".py",
   "mimetype": "text/x-python",
   "name": "python",
   "nbconvert_exporter": "python",
   "pygments_lexer": "ipython2",
   "version": "2.7.6"
  }
 },
 "nbformat": 4,
 "nbformat_minor": 0
}
