{
 "cells": [
  {
   "cell_type": "code",
   "execution_count": 1,
   "metadata": {},
   "outputs": [
    {
     "name": "stdout",
     "output_type": "stream",
     "text": [
      "{'headline': '', 'body': 'Uncertainty bounds and their use in the design of interval type-2 fuzzy logic\\n\\tsystems\\nWe derive inner- and outer-bound sets for the type-reduced set of an interval\\n\\ttype-2 fuzzy logic system (FLS), based on a new mathematical\\n\\tinterpretation of the Karnik-Mendel iterative procedure for computing\\n\\tthe type-reduced set. The bound sets can not only provide estimates\\n\\tabout the uncertainty contained in the output of an interval type-2\\n\\tFLS, but can also be used to design an interval type-2 FLS. We\\n\\tdemonstrate, by means of a simulation experiment, that the resulting\\n\\tsystem can operate without type-reduction and can achieve similar\\n\\tperformance to one that uses type-reduction. Therefore, our new design\\n\\tmethod, based on the bound sets, can relieve the computation burden of\\n\\tan interval type-2 FLS during its operation, which makes an interval\\n\\ttype-2 FLS useful for real-time applications\\n', 'entities': [{'id': 'forecasting theory', 'label': 'contr', 'forms': [], 'name': 'forecasting theory'}, {'id': 'fuzzy logic', 'label': 'contr', 'forms': [{'form': 'fuzzy logic', 'headOffsets': [], 'bodyOffsets': [(66, 77), (173, 184)]}], 'name': 'fuzzy logic'}, {'id': 'fuzzy set theory', 'label': 'contr', 'forms': [], 'name': 'fuzzy set theory'}, {'id': 'fuzzy systems', 'label': 'contr', 'forms': [], 'name': 'fuzzy systems'}, {'id': 'iterative', 'label': 'contr', 'forms': [{'form': 'iterative', 'headOffsets': [], 'bodyOffsets': [(264, 273)]}], 'name': 'iterative'}, {'id': 'methods', 'label': 'contr', 'forms': [], 'name': 'methods'}, {'id': 'probability', 'label': 'contr', 'forms': [], 'name': 'probability'}, {'id': 'time series', 'label': 'contr', 'forms': [], 'name': 'time series'}, {'id': 'uncertain systems', 'label': 'contr', 'forms': [], 'name': 'uncertain systems'}, {'id': 'uncertainty bounds', 'label': 'uncontr', 'forms': [{'form': 'uncertainty bounds', 'headOffsets': [], 'bodyOffsets': [(0, 18)]}], 'name': 'uncertainty bounds'}, {'id': 'interval type-2 fuzzy logic systems', 'label': 'uncontr', 'forms': [], 'name': 'interval type-2 fuzzy logic systems'}, {'id': 'inner-bound sets', 'label': 'uncontr', 'forms': [], 'name': 'inner-bound sets'}, {'id': 'outer-bound sets', 'label': 'uncontr', 'forms': [{'form': 'outer-bound sets', 'headOffsets': [], 'bodyOffsets': [(108, 124)]}], 'name': 'outer-bound sets'}, {'id': 'type-reduced set', 'label': 'uncontr', 'forms': [{'form': 'type-reduced set', 'headOffsets': [], 'bodyOffsets': [(133, 149), (303, 319)]}], 'name': 'type-reduced set'}, {'id': 'Karnik-Mendel iterative procedure', 'label': 'uncontr', 'forms': [], 'name': 'Karnik-Mendel iterative procedure'}, {'id': 'real-time applications', 'label': 'uncontr', 'forms': [{'form': 'real-time applications', 'headOffsets': [], 'bodyOffsets': [(874, 896)]}], 'name': 'real-time applications'}, {'id': 'time-series forecasting', 'label': 'uncontr', 'forms': [], 'name': 'time-series forecasting'}]}\n"
     ]
    }
   ],
   "source": [
    "import json\n",
    "from functools import reduce\n",
    "import numpy as np\n",
    "import os \n",
    "from os import path\n",
    "import re\n",
    "\n",
    "root = '../datasets/keyphrase_datasets/Hulth2003'\n",
    "dirnames = ['Test', 'Training', 'Validation']\n",
    "\n",
    "stories = []\n",
    "for leaf in dirnames:\n",
    "    dirname = path.join(root, leaf)\n",
    "    for file in os.listdir(dirname):\n",
    "        if file.endswith('.abstr'):\n",
    "            file = path.join(dirname, file)\n",
    "            with open(file) as f:\n",
    "                filecontent = f.read()\n",
    "            \n",
    "            def parseEntities(line, label):\n",
    "                entities = [{'id' : p[0:].strip(), 'label' : label} for p in line.split(';')]\n",
    "                entities = [entity for entity in entities if len(entity['id']) > 0]\n",
    "                return entities\n",
    "            def getEntities(file, label):\n",
    "                entities = []\n",
    "                with open(file) as f:\n",
    "                    for line in f:\n",
    "                        entities = entities + parseEntities(line, label) \n",
    "                    return entities\n",
    "                return []\n",
    "            \n",
    "            contrFile = file[:-6] + '.contr'\n",
    "            contrEntities = getEntities(contrFile, 'contr')\n",
    "            \n",
    "            uncontrFile = file[:-6] + '.uncontr'\n",
    "            uncontrEntities = getEntities(uncontrFile, 'uncontr')\n",
    "            \n",
    "            stories.append({'headline' : '', 'body' : filecontent, 'entities' : contrEntities + uncontrEntities})\n",
    "                \n",
    "def getOffsets(surface, content):\n",
    "    return [m.span() for m in re.finditer(re.escape(surface), content)]\n",
    "\n",
    "def getSurfaceForms(forms, headline, body):\n",
    "    headlineOffsets = [getOffsets(form, headline) for form in forms]\n",
    "    bodyOffsets = [getOffsets(form, body) for form in forms]\n",
    "    surfaceForms = [ {'form': form, 'headOffsets' : headOff, 'bodyOffsets' : bodyOff} \n",
    "                     for (form, headOff, bodyOff) in zip(forms, headlineOffsets, bodyOffsets)\n",
    "                     if len(headOff) > 0 or len(bodyOff) > 0]\n",
    "    return surfaceForms, forms[0]   \n",
    "    \n",
    "def addSurfaceForms(story):\n",
    "    entities = [entity for entity in story['entities']]\n",
    "    headline = story['headline'].lower()\n",
    "    body = story['body'].lower()\n",
    "    for entity in entities:\n",
    "        form = entity['id'].strip()\n",
    "        if len(form) == 0:\n",
    "            continue\n",
    "        entity['forms'], entity['name'] = getSurfaceForms([form], headline, body)\n",
    "    story['entities'] = entities\n",
    "\n",
    "[addSurfaceForms(story) for story in stories]\n",
    "print(stories[0])"
   ]
  },
  {
   "cell_type": "code",
   "execution_count": 2,
   "metadata": {
    "collapsed": true
   },
   "outputs": [],
   "source": [
    "with open('../datasets/inspec-standard.json', 'w') as f:\n",
    "    f.write(json.dumps(stories))"
   ]
  }
 ],
 "metadata": {
  "kernelspec": {
   "display_name": "Python 3",
   "language": "python",
   "name": "python3"
  },
  "language_info": {
   "codemirror_mode": {
    "name": "ipython",
    "version": 3
   },
   "file_extension": ".py",
   "mimetype": "text/x-python",
   "name": "python",
   "nbconvert_exporter": "python",
   "pygments_lexer": "ipython3",
   "version": "3.6.2"
  }
 },
 "nbformat": 4,
 "nbformat_minor": 2
}
