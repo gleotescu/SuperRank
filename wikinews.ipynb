{
 "cells": [
  {
   "cell_type": "code",
   "execution_count": 5,
   "metadata": {},
   "outputs": [
    {
     "name": "stdout",
     "output_type": "stream",
     "text": [
      "{'headline': 'Iran close to decision on nuclear program', 'body': \"Iranian representatives say negotiations with Europe on its nuclear program are in the final stages.Iran's foreign minister, Kamal Kharazi, told state television Saturday Iranian negotiators have given their final response to a European Union proposal to suspend Iran's uranium enrichment program. He said it is now up to the Europeans to decide whether or not to accept their decision.Iran and the European Union's big three powers &mdash; Britain, Germany, and France &mdash; have been negotiating a deal under which Tehran would agree to freeze sensitive nuclear work to avoid possible U.N. Security Council sanctions.U.S. Secretary of State Colin Powell, says that Iran's nuclear program is intended to make nuclear weapons. Iran authorities have insisted that their nuclear ambitions are limited to generating electricity from atomic energy plants, not making bombs.Critics of the position of the United States point to Israel's nuclear program. Israel maintains a policy of nuclear ambiguity, but is widely believed to possess at least 82 nuclear weapons. The program has not been condemned by the United States.\", 'entities': [{'id': '9282173', 'score': 1.0}, {'id': '186801', 'score': 1.67}, {'id': '721807', 'score': 3.0}, {'id': '31717', 'score': 1.0}, {'id': '5843419', 'score': 1.0}, {'id': '21785', 'score': 1.67}, {'id': '6984', 'score': 1.0}, {'id': '57654', 'score': 1.33}, {'id': '14653', 'score': 3.0}, {'id': '31956', 'score': 1.67}, {'id': '1166971', 'score': 1.67}, {'id': '9239', 'score': 2.33}, {'id': '11867', 'score': 1.0}, {'id': '9317', 'score': 2.33}, {'id': '32293', 'score': 1.0}, {'id': '31743', 'score': 2.0}, {'id': '3434750', 'score': 1.0}]}\n",
      "1581.0\n"
     ]
    }
   ],
   "source": [
    "import json\n",
    "from functools import reduce\n",
    "import numpy as np\n",
    "\n",
    "filename = '/home/george/salience-prediction/dexter-salience/saliency-dataset.json'\n",
    "with open(filename, 'r') as f:\n",
    "    stories = [json.loads(line) for line in f]\n",
    "    \n",
    "def transformToStandardFormat(story):\n",
    "    document = story['document']\n",
    "    # get headline and body\n",
    "    headline = ''\n",
    "    body = ''\n",
    "    parts = []\n",
    "    for part in document:\n",
    "        if part['name'] == 'headline':\n",
    "            headline = part['value']\n",
    "        elif part['name'][0:4] == 'body':\n",
    "            parts.append(part)\n",
    "    parts = sorted(parts, key= lambda part : int(part['name'][10:]))\n",
    "    body  = reduce(lambda x, y: x + y, [part['value'] for part in parts], '')\n",
    "    entities = [{'id' : str(entity['entityid']), 'score' : entity['score']} for entity in story['saliency']]  \n",
    "    return {'headline' : headline, 'body' : body, 'entities' : entities}\n",
    "        \n",
    "stories = [transformToStandardFormat(story) for story in stories]\n",
    "print(stories[0])\n",
    "\n",
    "l = [len(story['body']) for story in stories]\n",
    "print(np.median(l))"
   ]
  },
  {
   "cell_type": "code",
   "execution_count": 6,
   "metadata": {},
   "outputs": [
    {
     "name": "stdout",
     "output_type": "stream",
     "text": [
      "('9350062', {'surfaceForms': ['powell'], 'entity': 'Arthur_William_Baden_Powell'})\n"
     ]
    }
   ],
   "source": [
    "filename = '/home/george/salience-prediction/dexter-salience/saliency.svm'\n",
    "entitiesMap = {}\n",
    "with open(filename) as f:\n",
    "    for line in f:\n",
    "        idx = line.rfind('#')\n",
    "        comment = line[idx+1:]\n",
    "        elems = comment.split('\\t')\n",
    "        surfaceForms = elems[1]\n",
    "        surfaceForms = [elem.strip() for elem in surfaceForms[1:-1].split(',')]\n",
    "        entityId = elems[2]\n",
    "        entityName = elems[3].strip()\n",
    "        entitiesMap[entityId] = {'surfaceForms' : surfaceForms, 'entity' : entityName}\n",
    "print(list(entitiesMap.items())[0])"
   ]
  },
  {
   "cell_type": "code",
   "execution_count": 7,
   "metadata": {},
   "outputs": [
    {
     "name": "stdout",
     "output_type": "stream",
     "text": [
      "{'headline': 'Iran close to decision on nuclear program', 'body': \"Iranian representatives say negotiations with Europe on its nuclear program are in the final stages.Iran's foreign minister, Kamal Kharazi, told state television Saturday Iranian negotiators have given their final response to a European Union proposal to suspend Iran's uranium enrichment program. He said it is now up to the Europeans to decide whether or not to accept their decision.Iran and the European Union's big three powers &mdash; Britain, Germany, and France &mdash; have been negotiating a deal under which Tehran would agree to freeze sensitive nuclear work to avoid possible U.N. Security Council sanctions.U.S. Secretary of State Colin Powell, says that Iran's nuclear program is intended to make nuclear weapons. Iran authorities have insisted that their nuclear ambitions are limited to generating electricity from atomic energy plants, not making bombs.Critics of the position of the United States point to Israel's nuclear program. Israel maintains a policy of nuclear ambiguity, but is widely believed to possess at least 82 nuclear weapons. The program has not been condemned by the United States.\", 'entities': [{'id': '186801', 'score': 1.67, 'forms': [{'form': 'kamal kharazi', 'headOffsets': [], 'bodyOffsets': [(125, 138)]}], 'name': 'Kamal_Kharazi'}, {'id': '721807', 'score': 3.0, 'forms': [{'form': 'nuclear program', 'headOffsets': [(26, 41)], 'bodyOffsets': [(60, 75), (676, 691), (934, 949)]}, {'form': 'its nuclear program', 'headOffsets': [], 'bodyOffsets': [(56, 75)]}], 'name': 'Nuclear_program_of_Iran'}, {'id': '31717', 'score': 1.0, 'forms': [{'form': 'britain', 'headOffsets': [], 'bodyOffsets': [(441, 448)]}], 'name': 'United_Kingdom'}, {'id': '5843419', 'score': 1.0, 'forms': [{'form': 'france', 'headOffsets': [], 'bodyOffsets': [(463, 469)]}], 'name': 'France'}, {'id': '21785', 'score': 1.67, 'forms': [{'form': 'nuclear', 'headOffsets': [(26, 33)], 'bodyOffsets': [(60, 67), (558, 565), (676, 683), (712, 719), (771, 778), (934, 941), (980, 987), (1045, 1052)]}, {'form': 'nuclear weapons', 'headOffsets': [], 'bodyOffsets': [(712, 727), (1045, 1060)]}, {'form': 'weapons', 'headOffsets': [], 'bodyOffsets': [(720, 727), (1053, 1060)]}, {'form': 'atomic', 'headOffsets': [], 'bodyOffsets': [(832, 838)]}], 'name': 'Nuclear_weapon'}, {'id': '6984', 'score': 1.0, 'forms': [{'form': 'colin powell', 'headOffsets': [], 'bodyOffsets': [(645, 657)]}, {'form': 'secretary of state colin powell', 'headOffsets': [], 'bodyOffsets': [(626, 657)]}, {'form': 'colin', 'headOffsets': [], 'bodyOffsets': [(645, 650)]}], 'name': 'Colin_Powell'}, {'id': '57654', 'score': 1.33, 'forms': [{'form': 'tehran', 'headOffsets': [], 'bodyOffsets': [(519, 525)]}], 'name': 'Tehran'}, {'id': '14653', 'score': 3.0, 'forms': [{'form': 'iran', 'headOffsets': [(0, 4)], 'bodyOffsets': [(0, 4), (100, 104), (171, 175), (263, 267), (386, 390), (669, 673), (729, 733)]}, {'form': 'iranian', 'headOffsets': [], 'bodyOffsets': [(0, 7), (171, 178)]}], 'name': 'Iran'}, {'id': '31956', 'score': 1.67, 'forms': [{'form': 'security council', 'headOffsets': [], 'bodyOffsets': [(594, 610)]}], 'name': 'United_Nations_Security_Council'}, {'id': '1166971', 'score': 1.67, 'forms': [], 'name': 'Ministry_of_Foreign_Affairs_(Iran)'}, {'id': '9239', 'score': 2.33, 'forms': [{'form': 'european', 'headOffsets': [], 'bodyOffsets': [(228, 236), (326, 334), (399, 407)]}], 'name': 'Europe'}, {'id': '11867', 'score': 1.0, 'forms': [{'form': 'german', 'headOffsets': [], 'bodyOffsets': [(450, 456)]}], 'name': 'Germany'}, {'id': '9317', 'score': 2.33, 'forms': [{'form': 'european', 'headOffsets': [], 'bodyOffsets': [(228, 236), (326, 334), (399, 407)]}, {'form': 'european union', 'headOffsets': [], 'bodyOffsets': [(228, 242), (399, 413)]}], 'name': 'European_Union'}, {'id': '32293', 'score': 1.0, 'forms': [{'form': 'secretary of state', 'headOffsets': [], 'bodyOffsets': [(626, 644)]}, {'form': 'secretary', 'headOffsets': [], 'bodyOffsets': [(626, 635)]}], 'name': 'United_States_Secretary_of_State'}, {'id': '31743', 'score': 2.0, 'forms': [{'form': 'uranium', 'headOffsets': [], 'bodyOffsets': [(270, 277)]}], 'name': 'Uranium'}, {'id': '3434750', 'score': 1.0, 'forms': [{'form': 'union', 'headOffsets': [], 'bodyOffsets': [(237, 242), (408, 413)]}, {'form': 'united states', 'headOffsets': [], 'bodyOffsets': [(902, 915), (1104, 1117)]}], 'name': 'United_States'}]}\n"
     ]
    }
   ],
   "source": [
    "import re\n",
    "\n",
    "def getOffsets(surface, content):\n",
    "    return [m.span() for m in re.finditer(surface, content)]\n",
    "\n",
    "def getSurfaceForms(id, headline, body):\n",
    "    if id not in entitiesMap:        \n",
    "        forms = []\n",
    "        entity = 'NegativeSample'\n",
    "        headlineOffsets = []\n",
    "        bodyOffsets = []\n",
    "    else:\n",
    "        forms = entitiesMap[id]['surfaceForms']\n",
    "        entity = entitiesMap[id]['entity']\n",
    "        headlineOffsets = [getOffsets(form, headline) for form in forms]\n",
    "        bodyOffsets = [getOffsets(form, body) for form in forms]\n",
    "    \n",
    "    surfaceForms = [ {'form': form, 'headOffsets' : headOff, 'bodyOffsets' : bodyOff} \n",
    "                     for (form, headOff, bodyOff) in zip(forms, headlineOffsets, bodyOffsets)\n",
    "                     if len(headOff) > 0 or len(bodyOff) > 0]\n",
    "    return surfaceForms, entity    \n",
    "    \n",
    "def addSurfaceForms(story):\n",
    "    entities = [entity for entity in story['entities'] if entity['id'] in entitiesMap or entity['score'] < 0]\n",
    "    headline = story['headline'].lower()\n",
    "    body = story['body'].lower()\n",
    "    for entity in entities:\n",
    "        entity['forms'], entity['name'] = getSurfaceForms(entity['id'], headline, body)\n",
    "    story['entities'] = entities\n",
    "\n",
    "[addSurfaceForms(story) for story in stories]\n",
    "print(stories[0])"
   ]
  },
  {
   "cell_type": "code",
   "execution_count": 13,
   "metadata": {
    "collapsed": true
   },
   "outputs": [],
   "source": [
    "with open('./datasets/wikinews-standard.json', 'w') as f:\n",
    "    f.write(json.dumps(stories))"
   ]
  },
  {
   "cell_type": "code",
   "execution_count": null,
   "metadata": {
    "collapsed": true
   },
   "outputs": [],
   "source": []
  }
 ],
 "metadata": {
  "kernelspec": {
   "display_name": "Python 3",
   "language": "python",
   "name": "python3"
  },
  "language_info": {
   "codemirror_mode": {
    "name": "ipython",
    "version": 3
   },
   "file_extension": ".py",
   "mimetype": "text/x-python",
   "name": "python",
   "nbconvert_exporter": "python",
   "pygments_lexer": "ipython3",
   "version": "3.6.2"
  }
 },
 "nbformat": 4,
 "nbformat_minor": 1
}
